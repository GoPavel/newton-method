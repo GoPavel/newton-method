{
 "cells": [
  {
   "cell_type": "code",
   "execution_count": 55,
   "metadata": {},
   "outputs": [],
   "source": [
    "import math\n",
    "from math import sqrt, inf\n",
    "\n",
    "\n",
    "def f(z):\n",
    "    return z ** 3 - 1\n",
    "\n",
    "\n",
    "def df(z):\n",
    "    return 3 * z ** 2\n",
    "\n",
    "\n",
    "root1 = complex(1, 0)\n",
    "root2 = complex(-1/2, sqrt(3)/2)\n",
    "root3 = complex(-1/2, -sqrt(3)/2)\n",
    "\n",
    "\n",
    "def eq(z1, z2):\n",
    "    eps = 1e-15\n",
    "    return abs(z1 - z2) < eps\n",
    "\n",
    "\n",
    "assert eq(f(root1), 0) and eq(f(root2), 0) and eq(f(root3), 0)\n",
    "\n",
    "\n",
    "def newton_iters(z0, iters):\n",
    "    prev_z = z0\n",
    "    cur_z = z0\n",
    "    for i in range(iters):\n",
    "        if df(prev_z) == 0:\n",
    "            return complex(inf, inf)\n",
    "        cur_z = prev_z - f(prev_z) / df(prev_z)\n",
    "        prev_z = cur_z\n",
    "    return cur_z\n",
    "\n",
    "\n",
    "ITERS_CNT = 100\n",
    "def get_color(x, y):\n",
    "    ans = newton_iters(complex(x, y), ITERS_CNT)\n",
    "    if eq(ans, root1):\n",
    "        return 0\n",
    "    elif eq(ans, root2):\n",
    "        return 1\n",
    "    elif eq(ans, root3):\n",
    "        return 2\n",
    "    else:\n",
    "        return 3"
   ]
  }
 ],
 "metadata": {
  "kernelspec": {
   "display_name": "Python 3",
   "language": "python",
   "name": "python3"
  },
  "language_info": {
   "codemirror_mode": {
    "name": "ipython",
    "version": 3
   },
   "file_extension": ".py",
   "mimetype": "text/x-python",
   "name": "python",
   "nbconvert_exporter": "python",
   "pygments_lexer": "ipython3",
   "version": "3.6.7"
  }
 },
 "nbformat": 4,
 "nbformat_minor": 1
}
