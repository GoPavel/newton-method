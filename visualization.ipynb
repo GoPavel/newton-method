{
 "cells": [
  {
   "cell_type": "code",
   "execution_count": 145,
   "metadata": {},
   "outputs": [
    {
     "data": {
      "image/png": "[encoded data removed]",
      "text/plain": [
       "<Figure size 432x288 with 1 Axes>"
      ]
     },
     "metadata": {
      "needs_background": "light"
     },
     "output_type": "display_data"
    }
   ],
   "source": [
    "import matplotlib.pyplot as plt\n",
    "from matplotlib import colors\n",
    "import numpy as np\n",
    "\n",
    "\n",
    "def foo(x, y):\n",
    "    if x > y:\n",
    "        return 0\n",
    "    elif x > 0:\n",
    "        return 4\n",
    "    else:\n",
    "        return 2 \n",
    "\n",
    "N = 500\n",
    "\n",
    "# X, Y = np.mgrid[-2:2:complex(0, N), -2:2:complex(0, N)]\n",
    "# Z = np.array([X.flatten(), Y.flatten()]).T.reshape(N, N, 2)\n",
    "X = np.linspace(-2, 2, N)\n",
    "Y = np.linspace(-2, 2, N)\n",
    "\n",
    "z = np.array([foo(x, y) for x in X for y in Y])\n",
    "Z = z.reshape(N, N)\n",
    "\n",
    "plt.imshow(Z)\n",
    "plt.show()"
   ]
  },
  {
   "cell_type": "code",
   "execution_count": 134,
   "metadata": {},
   "outputs": [
    {
     "data": {
      "text/plain": [
       "array([[[-2., -2.],\n",
       "        [-2., -1.],\n",
       "        [-2.,  0.],\n",
       "        [-2.,  1.],\n",
       "        [-2.,  2.]],\n",
       "\n",
       "       [[-1., -2.],\n",
       "        [-1., -1.],\n",
       "        [-1.,  0.],\n",
       "        [-1.,  1.],\n",
       "        [-1.,  2.]],\n",
       "\n",
       "       [[ 0., -2.],\n",
       "        [ 0., -1.],\n",
       "        [ 0.,  0.],\n",
       "        [ 0.,  1.],\n",
       "        [ 0.,  2.]],\n",
       "\n",
       "       [[ 1., -2.],\n",
       "        [ 1., -1.],\n",
       "        [ 1.,  0.],\n",
       "        [ 1.,  1.],\n",
       "        [ 1.,  2.]],\n",
       "\n",
       "       [[ 2., -2.],\n",
       "        [ 2., -1.],\n",
       "        [ 2.,  0.],\n",
       "        [ 2.,  1.],\n",
       "        [ 2.,  2.]]])"
      ]
     },
     "execution_count": 134,
     "metadata": {},
     "output_type": "execute_result"
    }
   ],
   "source": []
  }
 ],
 "metadata": {
  "kernelspec": {
   "display_name": "Python 3",
   "language": "python",
   "name": "python3"
  },
  "language_info": {
   "codemirror_mode": {
    "name": "ipython",
    "version": 3
   },
   "file_extension": ".py",
   "mimetype": "text/x-python",
   "name": "python",
   "nbconvert_exporter": "python",
   "pygments_lexer": "ipython3",
   "version": "3.6.7"
  }
 },
 "nbformat": 4,
 "nbformat_minor": 2
}
